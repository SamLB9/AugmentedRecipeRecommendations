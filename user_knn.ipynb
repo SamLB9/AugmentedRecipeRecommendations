{
 "cells": [
  {
   "cell_type": "code",
   "execution_count": 101,
   "metadata": {},
   "outputs": [
    {
     "name": "stdout",
     "output_type": "stream",
     "text": [
      "Requirement already satisfied: faiss-cpu in /Users/jakedugan/miniconda3/envs/recipemag/lib/python3.12/site-packages (1.10.0)\n",
      "Requirement already satisfied: numpy<3.0,>=1.25.0 in /Users/jakedugan/miniconda3/envs/recipemag/lib/python3.12/site-packages (from faiss-cpu) (2.2.2)\n",
      "Requirement already satisfied: packaging in /Users/jakedugan/miniconda3/envs/recipemag/lib/python3.12/site-packages (from faiss-cpu) (24.2)\n",
      "Note: you may need to restart the kernel to use updated packages.\n"
     ]
    }
   ],
   "source": [
    "import torch\n",
    "import os\n",
    "import numpy as np\n",
    "import matplotlib.pyplot as plt\n",
    "from scipy.sparse import csr_matrix\n",
    "from sklearn.preprocessing import normalize\n",
    "\n",
    "\n",
    "from torch_geometric.data import HeteroData\n",
    "from torch_geometric.transforms import ToUndirected\n",
    "from sklearn.manifold import TSNE\n",
    "\n",
    "# Install faiss\n",
    "%pip install faiss-cpu\n",
    "import faiss\n"
   ]
  },
  {
   "cell_type": "code",
   "execution_count": 102,
   "metadata": {},
   "outputs": [],
   "source": [
    "dataset_folder = \"data/\"\n",
    "\n",
    "# 1. Load edge data (Recipe–Ingredient)\n",
    "r_i_src, r_i_dst, r_i_weight = torch.load(\n",
    "    os.path.join(dataset_folder, \"edge_r2i_src_dst_weight.pt\")\n",
    ")\n",
    "\n",
    "# 2. Load edge data (Recipe–Recipe)\n",
    "r_r_src, r_r_dst, r_r_weight = torch.load(\n",
    "    os.path.join(dataset_folder, \"edge_r2r_src_and_dst_and_weight.pt\")\n",
    ")\n",
    "\n",
    "# 3. Load edge data (Ingredient–Ingredient)\n",
    "i_i_src, i_i_dst, i_i_weight = torch.load(\n",
    "    os.path.join(dataset_folder, \"edge_i2i_src_and_dst_and_weight.pt\")\n",
    ")\n",
    "\n",
    "# 4. Load edge data (User–Recipe)\n",
    "all_u2r_src_dst_weight = torch.load(\n",
    "    os.path.join(dataset_folder, \"all_train_val_test_edge_u_rate_r_src_and_dst_and_weight.pt\")\n",
    ")\n",
    "all_u2r_src, all_u2r_dst, all_u2r_weight = all_u2r_src_dst_weight[0]\n",
    "\n",
    "# 5. Load node data (Recipe/Ingredient)\n",
    "recipe_instr_features = torch.load(\n",
    "    os.path.join(dataset_folder, \"recipe_nodes_avg_instruction_features.pt\")\n",
    ")\n",
    "ingredient_nutrient_features = torch.load(\n",
    "    os.path.join(dataset_folder, \"ingredient_nodes_nutrient_features.pt\")\n",
    ")\n",
    "\n",
    "data = HeteroData()\n",
    "\n",
    "# Convert lists to tensors if necessary\n",
    "all_u2r_src = torch.tensor(all_u2r_src, dtype=torch.long)\n",
    "all_u2r_dst = torch.tensor(all_u2r_dst, dtype=torch.long)\n",
    "all_u2r_weight = torch.tensor(all_u2r_weight, dtype=torch.float)\n",
    "\n",
    "r_i_src = torch.tensor(r_i_src, dtype=torch.long)\n",
    "r_i_dst = torch.tensor(r_i_dst, dtype=torch.long)\n",
    "r_i_weight = torch.tensor(r_i_weight, dtype=torch.float)\n",
    "\n",
    "r_r_src = torch.tensor(r_r_src, dtype=torch.long)\n",
    "r_r_dst = torch.tensor(r_r_dst, dtype=torch.long)\n",
    "r_r_weight = torch.tensor(r_r_weight, dtype=torch.float)\n",
    "\n",
    "i_i_src = torch.tensor(i_i_src, dtype=torch.long)\n",
    "i_i_dst = torch.tensor(i_i_dst, dtype=torch.long)\n",
    "i_i_weight = torch.tensor(i_i_weight, dtype=torch.float)\n",
    "\n",
    "# NODES:\n",
    "# We often need to define the number of nodes per type.\n",
    "# For example, from your logs:\n",
    "num_users = 7959\n",
    "num_recipes = 68794\n",
    "num_ingredients = 8847\n",
    "\n",
    "data[\"user\"].num_nodes = num_users\n",
    "data[\"recipe\"].num_nodes = num_recipes\n",
    "data[\"ingredient\"].num_nodes = num_ingredients\n",
    "\n",
    "# EDGES:\n",
    "# user -> recipe\n",
    "data[\"user\", \"u-r\", \"recipe\"].edge_index = torch.stack([all_u2r_src, all_u2r_dst], dim=0)\n",
    "data[\"user\", \"u-r\", \"recipe\"].edge_weight = all_u2r_weight\n",
    "\n",
    "# recipe -> ingredient\n",
    "data[\"recipe\", \"r-i\", \"ingredient\"].edge_index = torch.stack([r_i_src, r_i_dst], dim=0)\n",
    "data[\"recipe\", \"r-i\", \"ingredient\"].edge_weight = r_i_weight\n",
    "\n",
    "# recipe -> recipe\n",
    "data[\"recipe\", \"r-r\", \"recipe\"].edge_index = torch.stack([r_r_src, r_r_dst], dim=0)\n",
    "data[\"recipe\", \"r-r\", \"recipe\"].edge_weight = r_r_weight\n",
    "\n",
    "# ingredient -> ingredient\n",
    "data[\"ingredient\", \"i-i\", \"ingredient\"].edge_index = torch.stack([i_i_src, i_i_dst], dim=0)\n",
    "data[\"ingredient\", \"i-i\", \"ingredient\"].edge_weight = i_i_weight\n",
    "\n",
    "# If you want to make the graph fully bidirectional:\n",
    "data = ToUndirected()(data)\n",
    "\n",
    "# recipe_instr_features: [68794, feature_dim_recipe]\n",
    "# ingredient_nutrient_features: [8847, feature_dim_ingr]\n",
    "data[\"recipe\"].x = recipe_instr_features\n",
    "data[\"ingredient\"].x = ingredient_nutrient_features\n",
    "\n",
    "# Suppose we use random user features, e.g., shape [7959, 300]:\n",
    "#user_feat = torch.rand(num_users, 300)\n",
    "#data[\"user\"].x = user_feat"
   ]
  },
  {
   "cell_type": "code",
   "execution_count": 103,
   "metadata": {},
   "outputs": [],
   "source": [
    "# Load the HeteroData graph (assumed to be preloaded as 'data')\n",
    "num_users = data[\"user\"].num_nodes\n",
    "num_recipes = data[\"recipe\"].num_nodes\n",
    "\n",
    "# Extract user-recipe interaction data\n",
    "user_recipe_src = data[\"user\", \"u-r\", \"recipe\"].edge_index[0]\n",
    "user_recipe_dst = data[\"user\", \"u-r\", \"recipe\"].edge_index[1]\n",
    "user_recipe_weight = data[\"user\", \"u-r\", \"recipe\"].edge_weight\n",
    "\n"
   ]
  },
  {
   "cell_type": "code",
   "execution_count": 104,
   "metadata": {},
   "outputs": [],
   "source": [
    "\n",
    "# Create a sparse user-recipe interaction matrix\n",
    "interaction_matrix = csr_matrix((user_recipe_weight.numpy(), (user_recipe_src.numpy(), user_recipe_dst.numpy())),\n",
    "                                shape=(num_users, num_recipes))\n",
    "\n",
    "# Normalize interaction matrix\n",
    "interaction_matrix = normalize(interaction_matrix, norm='l2', axis=1)\n",
    "\n",
    "# Convert to dense numpy array (only if memory allows)\n",
    "user_embeddings = interaction_matrix.toarray().astype(np.float32)\n",
    "\n",
    "# Build FAISS index for fast k-NN search\n",
    "index = faiss.IndexFlatIP(num_recipes)  # Inner product for cosine similarity\n",
    "index.add(user_embeddings)\n",
    "\n"
   ]
  },
  {
   "cell_type": "markdown",
   "metadata": {},
   "source": [
    "## Version #1"
   ]
  },
  {
   "cell_type": "code",
   "execution_count": 105,
   "metadata": {},
   "outputs": [],
   "source": [
    "# Function to get top-k recommended recipes for a given user\n",
    "def recommend_recipes(user_id, k=5):\n",
    "    if user_id >= num_users:\n",
    "        raise ValueError(\"User ID out of range.\")\n",
    "    \n",
    "    # Get top-k similar users\n",
    "    _, nearest_users = index.search(user_embeddings[user_id].reshape(1, -1), k+1)\n",
    "    nearest_users = nearest_users.flatten()[1:]  # Exclude self\n",
    "    \n",
    "    # Aggregate recipe interactions from similar users\n",
    "    recommended_recipes = set()\n",
    "    for similar_user in nearest_users:\n",
    "        user_interactions = interaction_matrix[similar_user].nonzero()[1]  # Get recipe indices\n",
    "        recommended_recipes.update(user_interactions)\n",
    "    \n",
    "    return list(recommended_recipes)[:k]"
   ]
  },
  {
   "cell_type": "code",
   "execution_count": 106,
   "metadata": {},
   "outputs": [
    {
     "name": "stdout",
     "output_type": "stream",
     "text": [
      "Recommended recipes for User 0: [np.int32(41856), np.int32(2), np.int32(260), np.int32(261), np.int32(262)]\n"
     ]
    }
   ],
   "source": [
    "# Example: Get top 5 recommendations for user 0\n",
    "user_id = 0\n",
    "recommended_recipes = recommend_recipes(user_id, k=5)\n",
    "print(f\"Recommended recipes for User {user_id}: {recommended_recipes}\")"
   ]
  },
  {
   "cell_type": "markdown",
   "metadata": {},
   "source": [
    "Testing"
   ]
  },
  {
   "cell_type": "code",
   "execution_count": 107,
   "metadata": {},
   "outputs": [
    {
     "name": "stdout",
     "output_type": "stream",
     "text": [
      "True\n"
     ]
    }
   ],
   "source": [
    "max_recipe_id = num_recipes - 1\n",
    "print(all(idx < num_recipes for idx in recommended_recipes))  # Should print True"
   ]
  },
  {
   "cell_type": "code",
   "execution_count": 108,
   "metadata": {},
   "outputs": [
    {
     "name": "stdout",
     "output_type": "stream",
     "text": [
      "Top similar users to User 0: [7174 6037 5411 3273    5]\n"
     ]
    }
   ],
   "source": [
    "_, nearest_users = index.search(user_embeddings[0].reshape(1, -1), 6)  # Get top 5 similar users\n",
    "print(f\"Top similar users to User 0: {nearest_users.flatten()[1:]}\")  # Exclude itself"
   ]
  },
  {
   "cell_type": "code",
   "execution_count": 109,
   "metadata": {},
   "outputs": [
    {
     "name": "stdout",
     "output_type": "stream",
     "text": [
      "User 7174 interacted with recipes: [    2 34715 51795]\n",
      "User 6037 interacted with recipes: [    2  9560 51268 68168]\n",
      "User 5411 interacted with recipes: [    2  4068 24428 67297]\n",
      "User 3273 interacted with recipes: [    2  2037  5240  8173  8231 15801 17444 22565 25057 28952 29470 32007\n",
      " 36728 37047 41188 41230 41856 42845 48877 54705 61792 61793 61794 61795\n",
      " 61796 61797]\n",
      "User 5 interacted with recipes: [260 261 262 263]\n"
     ]
    }
   ],
   "source": [
    "for u in nearest_users.flatten()[1:]:\n",
    "    print(f\"User {u} interacted with recipes: {interaction_matrix[u].nonzero()[1]}\")"
   ]
  },
  {
   "cell_type": "code",
   "execution_count": 110,
   "metadata": {},
   "outputs": [
    {
     "name": "stdout",
     "output_type": "stream",
     "text": [
      "[np.int32(2), np.int32(22565), np.int32(8231), np.int32(51268), np.int32(37047), np.int32(41188), np.int32(498), np.int32(260), np.int32(261), np.int32(262)]\n",
      "[np.int32(67297), np.int32(2), np.int32(51268)]\n"
     ]
    }
   ],
   "source": [
    "print(recommend_recipes(0, k=10))  # Should return more results\n",
    "print(recommend_recipes(0, k=3))  # Should return fewer results"
   ]
  },
  {
   "cell_type": "code",
   "execution_count": 111,
   "metadata": {},
   "outputs": [
    {
     "name": "stdout",
     "output_type": "stream",
     "text": [
      "Recommended recipes for User 1: [np.int32(11), np.int32(37909), np.int32(22), np.int32(23), np.int32(8226)]\n"
     ]
    }
   ],
   "source": [
    "user_1_recommendations = recommend_recipes(1, k=5)\n",
    "print(f\"Recommended recipes for User 1: {user_1_recommendations}\")"
   ]
  },
  {
   "cell_type": "code",
   "execution_count": 112,
   "metadata": {},
   "outputs": [
    {
     "name": "stdout",
     "output_type": "stream",
     "text": [
      "Already seen by user 0: {np.int32(0), np.int32(1), np.int32(2), np.int32(3)}\n",
      "Recommended: [np.int32(41856), np.int32(2), np.int32(260), np.int32(261), np.int32(262)]\n",
      "Overlap: {np.int32(2)}\n"
     ]
    }
   ],
   "source": [
    "user_0_seen_recipes = set(interaction_matrix[0].nonzero()[1])\n",
    "print(\"Already seen by user 0:\", user_0_seen_recipes)\n",
    "print(\"Recommended:\", recommended_recipes)\n",
    "print(\"Overlap:\", set(recommended_recipes) & user_0_seen_recipes)  # Should be small or empty"
   ]
  },
  {
   "cell_type": "markdown",
   "metadata": {},
   "source": [
    "## Version #2"
   ]
  },
  {
   "cell_type": "code",
   "execution_count": 113,
   "metadata": {},
   "outputs": [],
   "source": [
    "def get_popular_recipes(k):\n",
    "    recipe_popularity = interaction_matrix.sum(axis=0).A1\n",
    "    top_recipes = np.argsort(recipe_popularity)[-k*2:][::-1]  # Select more than needed\n",
    "    return np.random.choice(top_recipes, k, replace=False).tolist()  # Random subset\n",
    "\n",
    "def recommend_recipes(user_id, k=5):\n",
    "    if user_id >= num_users:\n",
    "        raise ValueError(\"User ID out of range.\")\n",
    "    \n",
    "    seen_recipes = set(interaction_matrix[user_id].nonzero()[1])\n",
    "    if len(seen_recipes) == 0:\n",
    "        print(f\"User {user_id} has no interactions. Recommending popular recipes.\")\n",
    "        return get_popular_recipes(k)\n",
    "\n",
    "    _, nearest_users = index.search(user_embeddings[user_id].reshape(1, -1), k+1)\n",
    "    nearest_users = nearest_users.flatten()[1:]  # Exclude self\n",
    "\n",
    "    # Aggregate recipe interactions from similar users\n",
    "    recommended_recipes = set()\n",
    "    for similar_user in nearest_users:\n",
    "        user_interactions = interaction_matrix[similar_user].nonzero()[1]\n",
    "        recommended_recipes.update(user_interactions)\n",
    "\n",
    "    # Remove already seen recipes\n",
    "    recommended_recipes = list(recommended_recipes - seen_recipes)\n",
    "\n",
    "    return recommended_recipes[:k]"
   ]
  },
  {
   "cell_type": "code",
   "execution_count": 114,
   "metadata": {},
   "outputs": [
    {
     "name": "stdout",
     "output_type": "stream",
     "text": [
      "Recommended recipes for User 0: [np.int32(41856), np.int32(260), np.int32(261), np.int32(262), np.int32(32007)]\n"
     ]
    }
   ],
   "source": [
    "# Example: Get top 5 recommendations for user 0\n",
    "user_id = 0\n",
    "recommended_recipes = recommend_recipes(user_id, k=5)\n",
    "print(f\"Recommended recipes for User {user_id}: {recommended_recipes}\")"
   ]
  },
  {
   "cell_type": "markdown",
   "metadata": {},
   "source": [
    "Testing"
   ]
  },
  {
   "cell_type": "code",
   "execution_count": 115,
   "metadata": {},
   "outputs": [
    {
     "name": "stdout",
     "output_type": "stream",
     "text": [
      "True\n"
     ]
    }
   ],
   "source": [
    "max_recipe_id = num_recipes - 1\n",
    "print(all(idx < num_recipes for idx in recommended_recipes))  # Should print True"
   ]
  },
  {
   "cell_type": "code",
   "execution_count": 116,
   "metadata": {},
   "outputs": [
    {
     "name": "stdout",
     "output_type": "stream",
     "text": [
      "Top similar users to User 0: [7174 6037 5411 3273    5]\n"
     ]
    }
   ],
   "source": [
    "_, nearest_users = index.search(user_embeddings[0].reshape(1, -1), 6)  # Get top 5 similar users\n",
    "print(f\"Top similar users to User 0: {nearest_users.flatten()[1:]}\")  # Exclude itself"
   ]
  },
  {
   "cell_type": "code",
   "execution_count": 117,
   "metadata": {},
   "outputs": [
    {
     "name": "stdout",
     "output_type": "stream",
     "text": [
      "User 7174 interacted with recipes: [    2 34715 51795]\n",
      "User 6037 interacted with recipes: [    2  9560 51268 68168]\n",
      "User 5411 interacted with recipes: [    2  4068 24428 67297]\n",
      "User 3273 interacted with recipes: [    2  2037  5240  8173  8231 15801 17444 22565 25057 28952 29470 32007\n",
      " 36728 37047 41188 41230 41856 42845 48877 54705 61792 61793 61794 61795\n",
      " 61796 61797]\n",
      "User 5 interacted with recipes: [260 261 262 263]\n"
     ]
    }
   ],
   "source": [
    "for u in nearest_users.flatten()[1:]:\n",
    "    print(f\"User {u} interacted with recipes: {interaction_matrix[u].nonzero()[1]}\")"
   ]
  },
  {
   "cell_type": "code",
   "execution_count": 118,
   "metadata": {},
   "outputs": [
    {
     "name": "stdout",
     "output_type": "stream",
     "text": [
      "[np.int32(8231), np.int32(37047), np.int32(41188), np.int32(260), np.int32(261), np.int32(262), np.int32(263), np.int32(264), np.int32(265), np.int32(266)]\n",
      "[np.int32(67297), np.int32(4068), np.int32(51268)]\n"
     ]
    }
   ],
   "source": [
    "print(recommend_recipes(0, k=10))  # Should return more results\n",
    "print(recommend_recipes(0, k=3))  # Should return fewer results"
   ]
  },
  {
   "cell_type": "code",
   "execution_count": 119,
   "metadata": {},
   "outputs": [
    {
     "name": "stdout",
     "output_type": "stream",
     "text": [
      "Recommended recipes for User 1: [np.int32(37909), np.int32(8226), np.int32(21887), np.int32(33321), np.int32(2095)]\n"
     ]
    }
   ],
   "source": [
    "user_1_recommendations = recommend_recipes(1, k=5)\n",
    "print(f\"Recommended recipes for User 1: {user_1_recommendations}\")"
   ]
  },
  {
   "cell_type": "code",
   "execution_count": 120,
   "metadata": {},
   "outputs": [
    {
     "name": "stdout",
     "output_type": "stream",
     "text": [
      "Already seen by user 0: {np.int32(0), np.int32(1), np.int32(2), np.int32(3)}\n",
      "Recommended: [np.int32(41856), np.int32(260), np.int32(261), np.int32(262), np.int32(32007)]\n",
      "Overlap: set()\n"
     ]
    }
   ],
   "source": [
    "user_0_seen_recipes = set(interaction_matrix[0].nonzero()[1])\n",
    "print(\"Already seen by user 0:\", user_0_seen_recipes)\n",
    "print(\"Recommended:\", recommended_recipes)\n",
    "print(\"Overlap:\", set(recommended_recipes) & user_0_seen_recipes)  # Should be small or empty"
   ]
  },
  {
   "cell_type": "markdown",
   "metadata": {},
   "source": [
    "## Metrics"
   ]
  },
  {
   "cell_type": "code",
   "execution_count": 121,
   "metadata": {},
   "outputs": [],
   "source": [
    "def leave_one_out_cv(user_id):\n",
    "    \"\"\"\n",
    "    Perform Leave-One-Out Cross-Validation (LOO) by removing one interaction for testing.\n",
    "\n",
    "    Args:\n",
    "        user_id (int): User ID.\n",
    "\n",
    "    Returns:\n",
    "        tuple: (Train set, test item)\n",
    "    \"\"\"\n",
    "    user_interactions = set(interaction_matrix[user_id].nonzero()[1])\n",
    "    if len(user_interactions) < 2:\n",
    "        return list(user_interactions), None  # Not enough data\n",
    "\n",
    "    test_item = np.random.choice(list(user_interactions))  # Hold out one for testing\n",
    "    train_set = list(user_interactions - {test_item})\n",
    "\n",
    "    return train_set, test_item\n"
   ]
  },
  {
   "cell_type": "code",
   "execution_count": 122,
   "metadata": {},
   "outputs": [],
   "source": [
    "def generate_negative_samples(user_id, num_samples=100):\n",
    "    \"\"\"\n",
    "    Generate random negative samples (recipes NOT interacted with by the user).\n",
    "\n",
    "    Args:\n",
    "        user_id (int): User ID.\n",
    "        num_samples (int): Number of negative samples.\n",
    "\n",
    "    Returns:\n",
    "        list: List of negative sample recipe IDs.\n",
    "    \"\"\"\n",
    "    user_interactions = set(interaction_matrix[user_id].nonzero()[1])\n",
    "    all_recipes = set(range(num_recipes))\n",
    "    negative_samples = list(all_recipes - user_interactions)\n",
    "\n",
    "    return np.random.choice(negative_samples, min(len(negative_samples), num_samples), replace=False)"
   ]
  },
  {
   "cell_type": "code",
   "execution_count": 123,
   "metadata": {},
   "outputs": [],
   "source": [
    "# Leave in seen recipes for evaluation\n",
    "def recommend_recipes(user_id, k=10):\n",
    "    \"\"\"\n",
    "    Generate top-K recipe recommendations for a given user.\n",
    "\n",
    "    Args:\n",
    "        user_id (int): User ID.\n",
    "        k (int): Number of recommendations.\n",
    "\n",
    "    Returns:\n",
    "        list: List of recommended recipe IDs.\n",
    "    \"\"\"\n",
    "    if user_id >= num_users:\n",
    "        raise ValueError(\"User ID out of range.\")\n",
    "\n",
    "    # Get top-K similar users\n",
    "    _, nearest_users = index.search(user_embeddings[user_id].reshape(1, -1), k + 1)\n",
    "    nearest_users = nearest_users.flatten()[1:]  # Exclude self\n",
    "\n",
    "    # Aggregate interactions from similar users\n",
    "    recommended_recipes = set()\n",
    "    for similar_user in nearest_users:\n",
    "        user_interactions = interaction_matrix[similar_user].nonzero()[1]  # Get recipe indices\n",
    "        recommended_recipes.update(user_interactions)\n",
    "\n",
    "    # Do NOT exclude seen recipes (since we need rankings)\n",
    "    return sorted(recommended_recipes, key=lambda x: -interaction_matrix[user_id, x])[:k]"
   ]
  },
  {
   "cell_type": "code",
   "execution_count": 124,
   "metadata": {},
   "outputs": [],
   "source": [
    "def precision_at_k(recommended, ground_truth, k):\n",
    "    \"\"\"\n",
    "    Compute Precision@K.\n",
    "\n",
    "    Args:\n",
    "        recommended (list): Top-K recommended items.\n",
    "        ground_truth (list): Ground truth items.\n",
    "        k (int): Rank cutoff.\n",
    "\n",
    "    Returns:\n",
    "        float: Precision@K score.\n",
    "    \"\"\"\n",
    "    if not ground_truth:\n",
    "        return 0.0\n",
    "\n",
    "    hits = len(set(recommended[:k]) & set(ground_truth))\n",
    "    return hits / k"
   ]
  },
  {
   "cell_type": "code",
   "execution_count": 125,
   "metadata": {},
   "outputs": [],
   "source": [
    "def hit_rate_at_k(recommended, ground_truth, k):\n",
    "    \"\"\"\n",
    "    Compute Hit Rate@K.\n",
    "\n",
    "    Args:\n",
    "        recommended (list): Top-K recommended items.\n",
    "        ground_truth (list): Ground truth items.\n",
    "        k (int): Rank cutoff.\n",
    "\n",
    "    Returns:\n",
    "        float: Hit Rate@K score.\n",
    "    \"\"\"\n",
    "    return 1.0 if set(recommended[:k]) & set(ground_truth) else 0.0"
   ]
  },
  {
   "cell_type": "code",
   "execution_count": 126,
   "metadata": {},
   "outputs": [],
   "source": [
    "def ndcg_at_k(recommended, ground_truth, k):\n",
    "    \"\"\"\n",
    "    Compute Normalized Discounted Cumulative Gain (NDCG@K).\n",
    "\n",
    "    Args:\n",
    "        recommended (list): Top-K recommended items.\n",
    "        ground_truth (list): Ground truth items.\n",
    "        k (int): Rank cutoff.\n",
    "\n",
    "    Returns:\n",
    "        float: NDCG@K score.\n",
    "    \"\"\"\n",
    "    def dcg(recommended, ground_truth, k):\n",
    "        return sum((1 / np.log2(i + 2)) for i, item in enumerate(recommended[:k]) if item in ground_truth)\n",
    "\n",
    "    ideal_dcg = dcg(sorted(ground_truth, reverse=True), ground_truth, k)\n",
    "    return dcg(recommended, ground_truth, k) / ideal_dcg if ideal_dcg > 0 else 0.0"
   ]
  },
  {
   "cell_type": "code",
   "execution_count": 127,
   "metadata": {},
   "outputs": [],
   "source": [
    "def map_at_k(recommended, ground_truth, k):\n",
    "    \"\"\"\n",
    "    Compute Mean Average Precision@K (MAP@K).\n",
    "\n",
    "    Args:\n",
    "        recommended (list): Top-K recommended items.\n",
    "        ground_truth (list): Ground truth items.\n",
    "        k (int): Rank cutoff.\n",
    "\n",
    "    Returns:\n",
    "        float: MAP@K score.\n",
    "    \"\"\"\n",
    "    precision_values = [precision_at_k(recommended, ground_truth, i + 1) for i in range(k) if recommended[i] in ground_truth]\n",
    "    return np.mean(precision_values) if precision_values else 0.0"
   ]
  },
  {
   "cell_type": "code",
   "execution_count": 128,
   "metadata": {},
   "outputs": [
    {
     "name": "stdout",
     "output_type": "stream",
     "text": [
      "Precision@10: 0.1000\n",
      "Hit Rate@10: 1.0000\n",
      "NDCG@10: 1.0000\n",
      "MAP@10: 1.0000\n"
     ]
    }
   ],
   "source": [
    "### 🚀 Run Full Evaluation 🚀 ###\n",
    "user_id = 0\n",
    "train_set, test_item = leave_one_out_cv(user_id)\n",
    "\n",
    "if test_item:\n",
    "    recommended = recommend_recipes(user_id, k=10)\n",
    "    negative_samples = generate_negative_samples(user_id, num_samples=100)\n",
    "\n",
    "    print(f\"Precision@10: {precision_at_k(recommended, [test_item], 10):.4f}\")\n",
    "    print(f\"Hit Rate@10: {hit_rate_at_k(recommended, [test_item], 10):.4f}\")\n",
    "    print(f\"NDCG@10: {ndcg_at_k(recommended, [test_item], 10):.4f}\")\n",
    "    print(f\"MAP@10: {map_at_k(recommended, [test_item], 10):.4f}\")"
   ]
  }
 ],
 "metadata": {
  "kernelspec": {
   "display_name": "recipemag",
   "language": "python",
   "name": "python3"
  },
  "language_info": {
   "codemirror_mode": {
    "name": "ipython",
    "version": 3
   },
   "file_extension": ".py",
   "mimetype": "text/x-python",
   "name": "python",
   "nbconvert_exporter": "python",
   "pygments_lexer": "ipython3",
   "version": "3.12.8"
  }
 },
 "nbformat": 4,
 "nbformat_minor": 2
}
